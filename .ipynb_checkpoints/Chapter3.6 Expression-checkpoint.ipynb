{
 "cells": [
  {
   "cell_type": "code",
   "execution_count": 1,
   "id": "0a6a38a3",
   "metadata": {},
   "outputs": [],
   "source": [
    "from pyomo.environ import *"
   ]
  },
  {
   "cell_type": "markdown",
   "id": "441ddc21",
   "metadata": {},
   "source": [
    "#### 1定义单个表达式"
   ]
  },
  {
   "cell_type": "code",
   "execution_count": 2,
   "id": "cb0b24a3",
   "metadata": {},
   "outputs": [
    {
     "name": "stdout",
     "output_type": "stream",
     "text": [
      "4.0\n",
      "1.0\n",
      "1 Set Declarations\n",
      "    I : Size=1, Index=None, Ordered=Insertion\n",
      "        Key  : Dimen : Domain : Size : Members\n",
      "        None :     1 :    Any :    3 : {0, 1, 2}\n",
      "\n",
      "1 Var Declarations\n",
      "    x : Size=3, Index=I\n",
      "        Key : Lower : Value : Upper : Fixed : Stale : Domain\n",
      "          0 :  None :   1.0 :  None : False : False :  Reals\n",
      "          1 :  None :   1.0 :  None : False : False :  Reals\n",
      "          2 :  None :   1.0 :  None : False : False :  Reals\n",
      "\n",
      "1 Expression Declarations\n",
      "    e : Size=1, Index=None\n",
      "        Key  : Expression\n",
      "        None :       x[1]\n",
      "\n",
      "3 Declarations: I x e\n"
     ]
    }
   ],
   "source": [
    "model = ConcreteModel()\n",
    "model.I  = Set(initialize = [i for i in range(3)])\n",
    "model.x = Var(model.I, within = Reals, initialize = 1.0)\n",
    "\n",
    "model.e = Expression(expr = model.x[0] + 3*model.x[1])\n",
    "print(value(model.e)) # 4.0\n",
    "model.e.set_value(model.x[1])\n",
    "print(value(model.e)) # 1.0\n",
    "model.pprint()"
   ]
  },
  {
   "cell_type": "markdown",
   "id": "2bc7abfd",
   "metadata": {},
   "source": [
    "#### 2定义多个表达式"
   ]
  },
  {
   "cell_type": "code",
   "execution_count": 3,
   "id": "929fa1e5",
   "metadata": {},
   "outputs": [
    {
     "name": "stdout",
     "output_type": "stream",
     "text": [
      "1 Set Declarations\n",
      "    I : Size=1, Index=None, Ordered=Insertion\n",
      "        Key  : Dimen : Domain : Size : Members\n",
      "        None :     1 :    Any :    3 : {0, 1, 2}\n",
      "\n",
      "1 Var Declarations\n",
      "    x : Size=3, Index=I\n",
      "        Key : Lower : Value : Upper : Fixed : Stale : Domain\n",
      "          0 :  None :   1.0 :  None : False : False :  Reals\n",
      "          1 :  None :   1.0 :  None : False : False :  Reals\n",
      "          2 :  None :   1.0 :  None : False : False :  Reals\n",
      "\n",
      "2 Expression Declarations\n",
      "    e : Size=1, Index=None\n",
      "        Key  : Expression\n",
      "        None :       x[1]\n",
      "    e1 : Size=2, Index=I\n",
      "        Key : Expression\n",
      "          0 :        0.0\n",
      "          2 :     2*x[2]\n",
      "\n",
      "4 Declarations: I x e e1\n"
     ]
    }
   ],
   "source": [
    "def expr_rule(model,i):\n",
    "    if i == 1:\n",
    "        return Expression.Skip\n",
    "    return model.x[i]*i\n",
    "model.e1 = Expression(model.I, rule=expr_rule)\n",
    "model.pprint()"
   ]
  },
  {
   "cell_type": "code",
   "execution_count": 4,
   "id": "bd15c8a8",
   "metadata": {},
   "outputs": [
    {
     "name": "stdout",
     "output_type": "stream",
     "text": [
      "1 Set Declarations\n",
      "    I : Size=1, Index=None, Ordered=Insertion\n",
      "        Key  : Dimen : Domain : Size : Members\n",
      "        None :     1 :    Any :    3 : {0, 1, 2}\n",
      "\n",
      "1 Var Declarations\n",
      "    x : Size=3, Index=I\n",
      "        Key : Lower : Value : Upper : Fixed : Stale : Domain\n",
      "          0 :  None :   1.0 :  None : False : False :  Reals\n",
      "          1 :  None :   1.0 :  None : False : False :  Reals\n",
      "          2 :  None :   1.0 :  None : False : False :  Reals\n",
      "\n",
      "3 Expression Declarations\n",
      "    e : Size=1, Index=None\n",
      "        Key  : Expression\n",
      "        None :       x[1]\n",
      "    e1 : Size=2, Index=I\n",
      "        Key : Expression\n",
      "          0 :        0.0\n",
      "          2 :     2*x[2]\n",
      "    e2 : Size=3, Index=I\n",
      "        Key : Expression\n",
      "          0 : x[0]*x[0] + exp(x[0])\n",
      "          1 : x[1]*x[1] + exp(x[1])\n",
      "          2 : x[2]*x[2] + exp(x[2])\n",
      "\n",
      "5 Declarations: I x e e1 e2\n"
     ]
    }
   ],
   "source": [
    "def gen_expr_rule(model,i):\n",
    "    return model.x[i]* model.x[i] + exp(model.x[i])\n",
    "model.e2 = Expression(model.I, rule=gen_expr_rule)\n",
    "model.pprint()"
   ]
  },
  {
   "cell_type": "markdown",
   "id": "2ebabdee",
   "metadata": {},
   "source": [
    "#### 3采用单表达式辅助定义约束和目标函数"
   ]
  },
  {
   "cell_type": "code",
   "execution_count": 5,
   "id": "ffda761f",
   "metadata": {},
   "outputs": [
    {
     "name": "stdout",
     "output_type": "stream",
     "text": [
      "1 Set Declarations\n",
      "    I : Size=1, Index=None, Ordered=Insertion\n",
      "        Key  : Dimen : Domain : Size : Members\n",
      "        None :     1 :    Any :    3 : {0, 1, 2}\n",
      "\n",
      "1 Var Declarations\n",
      "    x : Size=3, Index=I\n",
      "        Key : Lower : Value : Upper : Fixed : Stale : Domain\n",
      "          0 :  None :   1.0 :  None : False : False :  Reals\n",
      "          1 :  None :   1.0 :  None : False : False :  Reals\n",
      "          2 :  None :   1.0 :  None : False : False :  Reals\n",
      "\n",
      "3 Expression Declarations\n",
      "    e : Size=1, Index=None\n",
      "        Key  : Expression\n",
      "        None :       x[1]\n",
      "    e1 : Size=2, Index=I\n",
      "        Key : Expression\n",
      "          0 :        0.0\n",
      "          2 :     2*x[2]\n",
      "    e2 : Size=3, Index=I\n",
      "        Key : Expression\n",
      "          0 : x[0]*x[0] + exp(x[0])\n",
      "          1 : x[1]*x[1] + exp(x[1])\n",
      "          2 : x[2]*x[2] + exp(x[2])\n",
      "\n",
      "1 Objective Declarations\n",
      "    obj : Size=1, Index=None, Active=True\n",
      "        Key  : Active : Sense    : Expression\n",
      "        None :   True : minimize : 0.1*x[1] + x[0]\n",
      "\n",
      "1 Constraint Declarations\n",
      "    constr : Size=1, Index=None, Active=True\n",
      "        Key  : Lower : Body : Upper : Active\n",
      "        None :  -Inf :    e :   1.0 :   True\n",
      "\n",
      "7 Declarations: I x e e1 e2 obj constr\n"
     ]
    }
   ],
   "source": [
    "model.obj = Objective(expr=0.1*model.e + model.x[0])\n",
    "model.constr = Constraint(expr=model.e <= 1.0)\n",
    "model.pprint()"
   ]
  },
  {
   "cell_type": "markdown",
   "id": "7198e8a8",
   "metadata": {},
   "source": [
    "#### 4采用多表达式辅助定义约束"
   ]
  },
  {
   "cell_type": "code",
   "execution_count": 6,
   "id": "73c95684",
   "metadata": {},
   "outputs": [
    {
     "name": "stdout",
     "output_type": "stream",
     "text": [
      "1 Set Declarations\n",
      "    I : Size=1, Index=None, Ordered=Insertion\n",
      "        Key  : Dimen : Domain : Size : Members\n",
      "        None :     1 :    Any :    3 : {0, 1, 2}\n",
      "\n",
      "1 Var Declarations\n",
      "    x : Size=3, Index=I\n",
      "        Key : Lower : Value : Upper : Fixed : Stale : Domain\n",
      "          0 :  None :   1.0 :  None : False : False :  Reals\n",
      "          1 :  None :   1.0 :  None : False : False :  Reals\n",
      "          2 :  None :   1.0 :  None : False : False :  Reals\n",
      "\n",
      "3 Expression Declarations\n",
      "    e : Size=1, Index=None\n",
      "        Key  : Expression\n",
      "        None :       x[1]\n",
      "    e1 : Size=2, Index=I\n",
      "        Key : Expression\n",
      "          0 :        0.0\n",
      "          2 :     2*x[2]\n",
      "    e2 : Size=3, Index=I\n",
      "        Key : Expression\n",
      "          0 : x[0]*x[0] + exp(x[0])\n",
      "          1 : x[1]*x[1] + exp(x[1])\n",
      "          2 : x[2]*x[2] + exp(x[2])\n",
      "\n",
      "1 Objective Declarations\n",
      "    obj : Size=1, Index=None, Active=True\n",
      "        Key  : Active : Sense    : Expression\n",
      "        None :   True : minimize : 0.1*x[1] + x[0]\n",
      "\n",
      "2 Constraint Declarations\n",
      "    constr : Size=1, Index=None, Active=True\n",
      "        Key  : Lower : Body : Upper : Active\n",
      "        None :  -Inf :    e :   1.0 :   True\n",
      "    constrs1 : Size=3, Index=I, Active=True\n",
      "        Key : Lower : Body                           : Upper : Active\n",
      "          0 :  -Inf : (x[0]*x[0] + exp(x[0])) + x[0] :   2.0 :   True\n",
      "          1 :  -Inf : (x[1]*x[1] + exp(x[1])) + x[1] :   2.0 :   True\n",
      "          2 :  -Inf : (x[2]*x[2] + exp(x[2])) + x[2] :   2.0 :   True\n",
      "\n",
      "8 Declarations: I x e e1 e2 obj constr constrs1\n"
     ]
    }
   ],
   "source": [
    "def constrs1_rule(model, i):\n",
    "    return model.e2[i] + model.x[i] <= 2\n",
    "\n",
    "model.constrs1 = Constraint(model.I, rule = constrs1_rule) # model.I约束索引集合\n",
    "model.pprint()"
   ]
  }
 ],
 "metadata": {
  "kernelspec": {
   "display_name": "Python 3",
   "language": "python",
   "name": "python3"
  },
  "language_info": {
   "codemirror_mode": {
    "name": "ipython",
    "version": 3
   },
   "file_extension": ".py",
   "mimetype": "text/x-python",
   "name": "python",
   "nbconvert_exporter": "python",
   "pygments_lexer": "ipython3",
   "version": "3.8.8"
  }
 },
 "nbformat": 4,
 "nbformat_minor": 5
}
