{
 "cells": [
  {
   "cell_type": "code",
   "execution_count": 32,
   "id": "6fe8732b",
   "metadata": {},
   "outputs": [],
   "source": [
    "from pyomo.environ import *"
   ]
  },
  {
   "cell_type": "markdown",
   "id": "da925892",
   "metadata": {},
   "source": [
    "### 3.1.1 集合的定义和初始化"
   ]
  },
  {
   "cell_type": "code",
   "execution_count": 33,
   "id": "e69d2edc",
   "metadata": {},
   "outputs": [],
   "source": [
    "model = ConcreteModel()\n",
    "model.D = RangeSet(1,10,2) # 表示 [1,3,5,7,9]\n",
    "model.I = Set(initialize = [i for i in range(6)])  # 采用列表初始化集合\n",
    "model.J = Set(initialize=('red', 'green', 'blue')) # 采用元组初始化集合 并且用字符串作为元素\n",
    "\n",
    "def even_init(model):\n",
    "    return (i for i in model.I if i % 2 == 0)\n",
    "model.K = Set(initialize=even_init) # 可以通过一个函数even_init 来定义initialize，本例中就是选取偶数的索引。\n",
    "\n",
    "def filter_rule(model, x):\n",
    "    return x not in model.I\n",
    "model.P = Set(initialize = [i for i in range(6)], filter = filter_rule)"
   ]
  },
  {
   "cell_type": "markdown",
   "id": "ef3b4add",
   "metadata": {},
   "source": [
    "### 3.1.3 集合的运算"
   ]
  },
  {
   "cell_type": "code",
   "execution_count": 34,
   "id": "43993cee",
   "metadata": {},
   "outputs": [
    {
     "name": "stdout",
     "output_type": "stream",
     "text": [
      "[0, 1, 2, 3, 4]\n"
     ]
    }
   ],
   "source": [
    "model.I = [i for i in range(5)] # 给集合赋值\n",
    "print([v for v in model.I]) # 遍历集合中所有元素"
   ]
  },
  {
   "cell_type": "code",
   "execution_count": 35,
   "id": "7036cc38",
   "metadata": {},
   "outputs": [
    {
     "name": "stdout",
     "output_type": "stream",
     "text": [
      "3\n",
      "(0, 1, 2, 3, 4)\n",
      "('red', 'green', 'blue')\n",
      "True\n",
      "False\n",
      "False\n",
      "True\n"
     ]
    }
   ],
   "source": [
    "print(len(model.J)) # 3 表示集合元素个数\n",
    "print(model.I.data()) # (0, 1, 2, 3, 4) 表示 集合元素\n",
    "print(model.J.data()) # ('red', 'green', 'blue') 表示 集合元素\n",
    "print(1 in model.I) # True 判断元素是否在集合内 \n",
    "print(12 in model.I) # False 判断元素是否在集合内 \n",
    "print([1,2] == model.I) # False 判断集合是否相等 \n",
    "print([i for i in range(5)] == model.I) # True 判断集合是否相等 "
   ]
  },
  {
   "cell_type": "code",
   "execution_count": 36,
   "id": "cc0c5053",
   "metadata": {},
   "outputs": [
    {
     "name": "stdout",
     "output_type": "stream",
     "text": [
      "(0, 2, 4)\n",
      "(1, 3, 5)\n",
      "(0, 1, 2, 3, 4, 5)\n",
      "((0, 1), (0, 2), (2, 1), (2, 2), (4, 1), (4, 2))\n"
     ]
    }
   ],
   "source": [
    "model.I = [i for i in range(6)] \n",
    "model.J = [i for i in range(6) if i % 2 == 0] \n",
    "model.K = [1,2]\n",
    "model.E = model.I & model.J # 交集 (0, 2, 4)\n",
    "model.F = model.I - model.J # 差集 (1, 3, 5)\n",
    "model.G = model.I | model.J # 并集 (0, 1, 2, 3, 4, 5)\n",
    "model.H = model.J * model.K # 笛卡尔积 ((0, 1), (0, 2), (2, 1), (2, 2), (4, 1), (4, 2))\n",
    "print(model.E.data())\n",
    "print(model.F.data())\n",
    "print(model.G.data())\n",
    "print(model.H.data())"
   ]
  }
 ],
 "metadata": {
  "kernelspec": {
   "display_name": "Python 3",
   "language": "python",
   "name": "python3"
  },
  "language_info": {
   "codemirror_mode": {
    "name": "ipython",
    "version": 3
   },
   "file_extension": ".py",
   "mimetype": "text/x-python",
   "name": "python",
   "nbconvert_exporter": "python",
   "pygments_lexer": "ipython3",
   "version": "3.8.8"
  }
 },
 "nbformat": 4,
 "nbformat_minor": 5
}
