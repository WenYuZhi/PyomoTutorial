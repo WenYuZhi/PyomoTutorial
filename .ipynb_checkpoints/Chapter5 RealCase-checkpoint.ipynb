{
 "cells": [
  {
   "cell_type": "code",
   "execution_count": 170,
   "id": "5e9e16c7",
   "metadata": {},
   "outputs": [],
   "source": [
    "from pyomo.environ import *\n",
    "import numpy as np"
   ]
  },
  {
   "cell_type": "code",
   "execution_count": 171,
   "id": "0a68a6ca",
   "metadata": {},
   "outputs": [],
   "source": [
    "model = ConcreteModel()\n",
    "model.I = Set(initialize = [i for i in range(4)])\n",
    "model.J = Set(initialize = [i for i in range(4)])\n",
    "model.x = Var(model.I, model.J, within = Reals, bounds = (0,1))\n",
    "model.c = Param(model.I, model.J, initialize = {(1,1):2, (2,2):3}, default = 1)\n",
    "\n",
    "def obj_rule(model):\n",
    "    return summation(model.c, model.x)\n",
    "\n",
    "def constrs_rule1(model, i):\n",
    "    return sum([model.x[i,j] for j in model.J]) == 1\n",
    "\n",
    "def constrs_rule2(model, j):\n",
    "    return sum([model.x[i,j] for i in model.I]) == 1\n",
    "\n",
    "model.obj = Objective(rule=obj_rule, sense = minimize)\n",
    "model.constrs1 = Constraint(model.I, rule = constrs_rule1)\n",
    "model.constrs2 = Constraint(model.J, rule = constrs_rule2)"
   ]
  },
  {
   "cell_type": "code",
   "execution_count": 172,
   "id": "be4b74b4",
   "metadata": {},
   "outputs": [
    {
     "name": "stdout",
     "output_type": "stream",
     "text": [
      "Read LP format model from file C:\\Users\\WangYuan\\AppData\\Local\\Temp\\tmp_ft07iy3.pyomo.lp\n",
      "Reading time = 0.00 seconds\n",
      "x17: 9 rows, 17 columns, 33 nonzeros\n",
      "Gurobi Optimizer version 9.5.0 build v9.5.0rc5 (win64)\n",
      "Thread count: 6 physical cores, 12 logical processors, using up to 12 threads\n",
      "Optimize a model with 9 rows, 17 columns and 33 nonzeros\n",
      "Model fingerprint: 0x453d4d5e\n",
      "Coefficient statistics:\n",
      "  Matrix range     [1e+00, 1e+00]\n",
      "  Objective range  [1e+00, 3e+00]\n",
      "  Bounds range     [1e+00, 1e+00]\n",
      "  RHS range        [1e+00, 1e+00]\n",
      "Presolve removed 1 rows and 1 columns\n",
      "Presolve time: 0.00s\n",
      "Presolved: 8 rows, 16 columns, 32 nonzeros\n",
      "\n",
      "Iteration    Objective       Primal Inf.    Dual Inf.      Time\n",
      "       0    4.0000000e+00   2.000000e+00   0.000000e+00      0s\n",
      "       2    4.0000000e+00   0.000000e+00   0.000000e+00      0s\n",
      "\n",
      "Solved in 2 iterations and 0.00 seconds (0.00 work units)\n",
      "Optimal objective  4.000000000e+00\n"
     ]
    },
    {
     "data": {
      "text/plain": [
       "('model.lp', 2973095518416)"
      ]
     },
     "execution_count": 172,
     "metadata": {},
     "output_type": "execute_result"
    }
   ],
   "source": [
    "opt = SolverFactory('gurobi') # 指定求解器\n",
    "# opt = SolverFactory('cplex')  # 指定 cplex 作为求解器 \n",
    "# opt = SolverFactory('scip')  # 指定 scip 作为求解器 \n",
    "solution = opt.solve(model, tee=True)             # 调用求解器求解, tee = True 表示打印求解器的输出\n",
    "model_file = model.write('model.lp') #输出模型文件"
   ]
  },
  {
   "cell_type": "code",
   "execution_count": 173,
   "id": "23b23d08",
   "metadata": {},
   "outputs": [
    {
     "name": "stdout",
     "output_type": "stream",
     "text": [
      "# ==========================================================\n",
      "# = Solver Results                                         =\n",
      "# ==========================================================\n",
      "# ----------------------------------------------------------\n",
      "#   Problem Information\n",
      "# ----------------------------------------------------------\n",
      "Problem: \n",
      "- Name: x17\n",
      "  Lower bound: 4.0\n",
      "  Upper bound: 4.0\n",
      "  Number of objectives: 1\n",
      "  Number of constraints: 9\n",
      "  Number of variables: 17\n",
      "  Number of binary variables: 0\n",
      "  Number of integer variables: 0\n",
      "  Number of continuous variables: 17\n",
      "  Number of nonzeros: 33\n",
      "  Sense: minimize\n",
      "# ----------------------------------------------------------\n",
      "#   Solver Information\n",
      "# ----------------------------------------------------------\n",
      "Solver: \n",
      "- Status: ok\n",
      "  Return code: 0\n",
      "  Message: Model was solved to optimality (subject to tolerances), and an optimal solution is available.\n",
      "  Termination condition: optimal\n",
      "  Termination message: Model was solved to optimality (subject to tolerances), and an optimal solution is available.\n",
      "  Wall time: 0.0010128021240234375\n",
      "  Error rc: 0\n",
      "  Time: 0.10284805297851562\n",
      "# ----------------------------------------------------------\n",
      "#   Solution Information\n",
      "# ----------------------------------------------------------\n",
      "Solution: \n",
      "- number of solutions: 0\n",
      "  number of solutions displayed: 0\n",
      "optimum point: \n",
      " [[0. 1. 0. 0.]\n",
      " [1. 0. 0. 0.]\n",
      " [0. 0. 0. 1.]\n",
      " [0. 0. 1. 0.]] \n",
      "optimal objective: 4.0\n"
     ]
    }
   ],
   "source": [
    "solution.write()\n",
    "x_opt = np.array([value(model.x[i,j]) for i in model.I for j in model.J]).reshape((len(model.I), len(model.J)))\n",
    "obj_values = value(model.obj)\n",
    "print(\"optimum point: \\n {} \".format(x_opt))\n",
    "print(\"optimal objective: {}\".format(obj_values))"
   ]
  }
 ],
 "metadata": {
  "kernelspec": {
   "display_name": "Python 3",
   "language": "python",
   "name": "python3"
  },
  "language_info": {
   "codemirror_mode": {
    "name": "ipython",
    "version": 3
   },
   "file_extension": ".py",
   "mimetype": "text/x-python",
   "name": "python",
   "nbconvert_exporter": "python",
   "pygments_lexer": "ipython3",
   "version": "3.8.8"
  }
 },
 "nbformat": 4,
 "nbformat_minor": 5
}
