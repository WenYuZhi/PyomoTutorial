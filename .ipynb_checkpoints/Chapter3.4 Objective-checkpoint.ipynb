{
 "cells": [
  {
   "cell_type": "code",
   "execution_count": 1,
   "id": "9f20bcb6",
   "metadata": {},
   "outputs": [],
   "source": [
    "from pyomo.environ import *"
   ]
  },
  {
   "cell_type": "markdown",
   "id": "b4256e04",
   "metadata": {},
   "source": [
    "#### 1简单表达式定义目标函数"
   ]
  },
  {
   "cell_type": "code",
   "execution_count": 2,
   "id": "241cd148",
   "metadata": {},
   "outputs": [
    {
     "name": "stdout",
     "output_type": "stream",
     "text": [
      "3 Set Declarations\n",
      "    I : Size=1, Index=None, Ordered=Insertion\n",
      "        Key  : Dimen : Domain : Size : Members\n",
      "        None :     1 :    Any :    2 : {0, 1}\n",
      "    J : Size=1, Index=None, Ordered=Insertion\n",
      "        Key  : Dimen : Domain : Size : Members\n",
      "        None :     1 :    Any :    3 : {0, 1, 2}\n",
      "    x_index : Size=1, Index=None, Ordered=True\n",
      "        Key  : Dimen : Domain : Size : Members\n",
      "        None :     2 :    I*J :    6 : {(0, 0), (0, 1), (0, 2), (1, 0), (1, 1), (1, 2)}\n",
      "\n",
      "1 Var Declarations\n",
      "    x : Size=6, Index=x_index\n",
      "        Key    : Lower : Value : Upper : Fixed : Stale : Domain\n",
      "        (0, 0) :  None :   1.0 :  None : False : False :  Reals\n",
      "        (0, 1) :  None :   1.0 :  None : False : False :  Reals\n",
      "        (0, 2) :  None :   1.0 :  None : False : False :  Reals\n",
      "        (1, 0) :  None :   1.0 :  None : False : False :  Reals\n",
      "        (1, 1) :  None :   1.0 :  None : False : False :  Reals\n",
      "        (1, 2) :  None :   1.0 :  None : False : False :  Reals\n",
      "\n",
      "1 Objective Declarations\n",
      "    obj1 : Size=1, Index=None, Active=True\n",
      "        Key  : Active : Sense    : Expression\n",
      "        None :   True : minimize : 2*x[0,1] + 3*x[1,2]\n",
      "\n",
      "5 Declarations: I J x_index x obj1\n"
     ]
    }
   ],
   "source": [
    "model = ConcreteModel()\n",
    "model.I  = Set(initialize = [i for i in range(2)])\n",
    "model.J  = Set(initialize = [i for i in range(3)])\n",
    "model.x = Var(model.I, model.J, within = Reals, initialize = 1.0)\n",
    "\n",
    "def obj_rule(model):\n",
    "    return 2*model.x[0,1] + 3*model.x[1,2]\n",
    "\n",
    "model.obj1 = Objective(rule=obj_rule, sense=minimize)\n",
    "model.pprint()"
   ]
  },
  {
   "cell_type": "markdown",
   "id": "43a3034e",
   "metadata": {},
   "source": [
    "#### 2借助summation函数定义目标函数"
   ]
  },
  {
   "cell_type": "code",
   "execution_count": 3,
   "id": "f299224b",
   "metadata": {},
   "outputs": [
    {
     "name": "stdout",
     "output_type": "stream",
     "text": [
      "4 Set Declarations\n",
      "    I : Size=1, Index=None, Ordered=Insertion\n",
      "        Key  : Dimen : Domain : Size : Members\n",
      "        None :     1 :    Any :    2 : {0, 1}\n",
      "    J : Size=1, Index=None, Ordered=Insertion\n",
      "        Key  : Dimen : Domain : Size : Members\n",
      "        None :     1 :    Any :    3 : {0, 1, 2}\n",
      "    p_index : Size=1, Index=None, Ordered=True\n",
      "        Key  : Dimen : Domain : Size : Members\n",
      "        None :     2 :    I*J :    6 : {(0, 0), (0, 1), (0, 2), (1, 0), (1, 1), (1, 2)}\n",
      "    x_index : Size=1, Index=None, Ordered=True\n",
      "        Key  : Dimen : Domain : Size : Members\n",
      "        None :     2 :    I*J :    6 : {(0, 0), (0, 1), (0, 2), (1, 0), (1, 1), (1, 2)}\n",
      "\n",
      "1 Param Declarations\n",
      "    p : Size=6, Index=p_index, Domain=Any, Default=2, Mutable=False\n",
      "        Key : Value\n",
      "\n",
      "1 Var Declarations\n",
      "    x : Size=6, Index=x_index\n",
      "        Key    : Lower : Value : Upper : Fixed : Stale : Domain\n",
      "        (0, 0) :  None :   1.0 :  None : False : False :  Reals\n",
      "        (0, 1) :  None :   1.0 :  None : False : False :  Reals\n",
      "        (0, 2) :  None :   1.0 :  None : False : False :  Reals\n",
      "        (1, 0) :  None :   1.0 :  None : False : False :  Reals\n",
      "        (1, 1) :  None :   1.0 :  None : False : False :  Reals\n",
      "        (1, 2) :  None :   1.0 :  None : False : False :  Reals\n",
      "\n",
      "2 Objective Declarations\n",
      "    obj1 : Size=1, Index=None, Active=True\n",
      "        Key  : Active : Sense    : Expression\n",
      "        None :   True : minimize : 2*x[0,1] + 3*x[1,2]\n",
      "    obj2 : Size=1, Index=None, Active=True\n",
      "        Key  : Active : Sense    : Expression\n",
      "        None :   True : maximize : 2*x[0,0] + 2*x[0,1] + 2*x[0,2] + 2*x[1,0] + 2*x[1,1] + 2*x[1,2]\n",
      "\n",
      "8 Declarations: I J x_index x obj1 p_index p obj2\n"
     ]
    }
   ],
   "source": [
    "model.p = Param(model.I, model.J, default = 2) \n",
    "def obj_rule(model):\n",
    "    return summation(model.p, model.x)\n",
    "model.obj2 = Objective(rule=obj_rule, sense=maximize)\n",
    "model.pprint()"
   ]
  },
  {
   "cell_type": "markdown",
   "id": "95eb2ac1",
   "metadata": {},
   "source": [
    "#### 3借助各种复杂表达式定义目标函数"
   ]
  },
  {
   "cell_type": "code",
   "execution_count": 4,
   "id": "7387326e",
   "metadata": {},
   "outputs": [
    {
     "name": "stdout",
     "output_type": "stream",
     "text": [
      "4 Set Declarations\n",
      "    I : Size=1, Index=None, Ordered=Insertion\n",
      "        Key  : Dimen : Domain : Size : Members\n",
      "        None :     1 :    Any :    2 : {0, 1}\n",
      "    J : Size=1, Index=None, Ordered=Insertion\n",
      "        Key  : Dimen : Domain : Size : Members\n",
      "        None :     1 :    Any :    3 : {0, 1, 2}\n",
      "    p_index : Size=1, Index=None, Ordered=True\n",
      "        Key  : Dimen : Domain : Size : Members\n",
      "        None :     2 :    I*J :    6 : {(0, 0), (0, 1), (0, 2), (1, 0), (1, 1), (1, 2)}\n",
      "    x_index : Size=1, Index=None, Ordered=True\n",
      "        Key  : Dimen : Domain : Size : Members\n",
      "        None :     2 :    I*J :    6 : {(0, 0), (0, 1), (0, 2), (1, 0), (1, 1), (1, 2)}\n",
      "\n",
      "1 Param Declarations\n",
      "    p : Size=6, Index=p_index, Domain=Any, Default=2, Mutable=False\n",
      "        Key : Value\n",
      "\n",
      "1 Var Declarations\n",
      "    x : Size=6, Index=x_index\n",
      "        Key    : Lower : Value : Upper : Fixed : Stale : Domain\n",
      "        (0, 0) :  None :   1.0 :  None : False : False :  Reals\n",
      "        (0, 1) :  None :   1.0 :  None : False : False :  Reals\n",
      "        (0, 2) :  None :   1.0 :  None : False : False :  Reals\n",
      "        (1, 0) :  None :   1.0 :  None : False : False :  Reals\n",
      "        (1, 1) :  None :   1.0 :  None : False : False :  Reals\n",
      "        (1, 2) :  None :   1.0 :  None : False : False :  Reals\n",
      "\n",
      "3 Objective Declarations\n",
      "    obj1 : Size=1, Index=None, Active=True\n",
      "        Key  : Active : Sense    : Expression\n",
      "        None :   True : minimize : 2*x[0,1] + 3*x[1,2]\n",
      "    obj2 : Size=1, Index=None, Active=True\n",
      "        Key  : Active : Sense    : Expression\n",
      "        None :   True : maximize : 2*x[0,0] + 2*x[0,1] + 2*x[0,2] + 2*x[1,0] + 2*x[1,1] + 2*x[1,2]\n",
      "    obj3 : Size=1, Index=None, Active=True\n",
      "        Key  : Active : Sense    : Expression\n",
      "        None :   True : minimize : sin(x[1,2]) + x[1,2]**2 + 2**x[1,2] + log(x[1,2])\n",
      "\n",
      "9 Declarations: I J x_index x obj1 p_index p obj2 obj3\n"
     ]
    }
   ],
   "source": [
    "def obj_rule(model):\n",
    "    expr = 0\n",
    "    for i in model.I:\n",
    "        for j in model.J:\n",
    "            expr = sin(model.x[i,j]) + model.x[i,j]**2 + 2**(model.x[i,j]) + log(model.x[i,j])\n",
    "    return expr\n",
    "\n",
    "model.obj3 = Objective(rule = obj_rule, sense = minimize)\n",
    "model.pprint()"
   ]
  },
  {
   "cell_type": "markdown",
   "id": "90d886e7",
   "metadata": {},
   "source": [
    "#### 4带有索引的目标函数定义"
   ]
  },
  {
   "cell_type": "code",
   "execution_count": 5,
   "id": "d256d05d",
   "metadata": {},
   "outputs": [
    {
     "name": "stdout",
     "output_type": "stream",
     "text": [
      "5 Set Declarations\n",
      "    I : Size=1, Index=None, Ordered=Insertion\n",
      "        Key  : Dimen : Domain : Size : Members\n",
      "        None :     1 :    Any :    2 : {0, 1}\n",
      "    J : Size=1, Index=None, Ordered=Insertion\n",
      "        Key  : Dimen : Domain : Size : Members\n",
      "        None :     1 :    Any :    3 : {0, 1, 2}\n",
      "    e1_index : Size=1, Index=None, Ordered=True\n",
      "        Key  : Dimen : Domain : Size : Members\n",
      "        None :     2 :    I*J :    6 : {(0, 0), (0, 1), (0, 2), (1, 0), (1, 1), (1, 2)}\n",
      "    p_index : Size=1, Index=None, Ordered=True\n",
      "        Key  : Dimen : Domain : Size : Members\n",
      "        None :     2 :    I*J :    6 : {(0, 0), (0, 1), (0, 2), (1, 0), (1, 1), (1, 2)}\n",
      "    x_index : Size=1, Index=None, Ordered=True\n",
      "        Key  : Dimen : Domain : Size : Members\n",
      "        None :     2 :    I*J :    6 : {(0, 0), (0, 1), (0, 2), (1, 0), (1, 1), (1, 2)}\n",
      "\n",
      "1 Param Declarations\n",
      "    p : Size=6, Index=p_index, Domain=Any, Default=2, Mutable=False\n",
      "        Key : Value\n",
      "\n",
      "1 Var Declarations\n",
      "    x : Size=6, Index=x_index\n",
      "        Key    : Lower : Value : Upper : Fixed : Stale : Domain\n",
      "        (0, 0) :  None :   1.0 :  None : False : False :  Reals\n",
      "        (0, 1) :  None :   1.0 :  None : False : False :  Reals\n",
      "        (0, 2) :  None :   1.0 :  None : False : False :  Reals\n",
      "        (1, 0) :  None :   1.0 :  None : False : False :  Reals\n",
      "        (1, 1) :  None :   1.0 :  None : False : False :  Reals\n",
      "        (1, 2) :  None :   1.0 :  None : False : False :  Reals\n",
      "\n",
      "4 Objective Declarations\n",
      "    e1 : Size=6, Index=e1_index, Active=True\n",
      "        Key    : Active : Sense    : Expression\n",
      "        (0, 0) :   True : minimize :  x[0,0]**2\n",
      "        (0, 1) :   True : minimize :  x[0,1]**2\n",
      "        (0, 2) :   True : minimize :  x[0,2]**2\n",
      "        (1, 0) :   True : minimize :  x[1,0]**2\n",
      "        (1, 1) :   True : minimize :  x[1,1]**2\n",
      "        (1, 2) :   True : minimize :  x[1,2]**2\n",
      "    obj1 : Size=1, Index=None, Active=True\n",
      "        Key  : Active : Sense    : Expression\n",
      "        None :   True : minimize : 2*x[0,1] + 3*x[1,2]\n",
      "    obj2 : Size=1, Index=None, Active=True\n",
      "        Key  : Active : Sense    : Expression\n",
      "        None :   True : maximize : 2*x[0,0] + 2*x[0,1] + 2*x[0,2] + 2*x[1,0] + 2*x[1,1] + 2*x[1,2]\n",
      "    obj3 : Size=1, Index=None, Active=True\n",
      "        Key  : Active : Sense    : Expression\n",
      "        None :   True : minimize : sin(x[1,2]) + x[1,2]**2 + 2**x[1,2] + log(x[1,2])\n",
      "\n",
      "11 Declarations: I J x_index x obj1 p_index p obj2 obj3 e1_index e1\n"
     ]
    }
   ],
   "source": [
    "def e_rule(model, i, j):\n",
    "    return model.x[i,j]**2\n",
    "model.e1 = Objective(model.I, model.J, rule=e_rule, sense=minimize)\n",
    "model.pprint()"
   ]
  },
  {
   "cell_type": "markdown",
   "id": "0063ac45",
   "metadata": {},
   "source": [
    "#### 5借助 Skip 实现目标函数灵活定义"
   ]
  },
  {
   "cell_type": "code",
   "execution_count": 6,
   "id": "2b3debf6",
   "metadata": {},
   "outputs": [
    {
     "name": "stdout",
     "output_type": "stream",
     "text": [
      "6 Set Declarations\n",
      "    I : Size=1, Index=None, Ordered=Insertion\n",
      "        Key  : Dimen : Domain : Size : Members\n",
      "        None :     1 :    Any :    2 : {0, 1}\n",
      "    J : Size=1, Index=None, Ordered=Insertion\n",
      "        Key  : Dimen : Domain : Size : Members\n",
      "        None :     1 :    Any :    3 : {0, 1, 2}\n",
      "    e1_index : Size=1, Index=None, Ordered=True\n",
      "        Key  : Dimen : Domain : Size : Members\n",
      "        None :     2 :    I*J :    6 : {(0, 0), (0, 1), (0, 2), (1, 0), (1, 1), (1, 2)}\n",
      "    e2_index : Size=1, Index=None, Ordered=True\n",
      "        Key  : Dimen : Domain : Size : Members\n",
      "        None :     2 :    I*J :    6 : {(0, 0), (0, 1), (0, 2), (1, 0), (1, 1), (1, 2)}\n",
      "    p_index : Size=1, Index=None, Ordered=True\n",
      "        Key  : Dimen : Domain : Size : Members\n",
      "        None :     2 :    I*J :    6 : {(0, 0), (0, 1), (0, 2), (1, 0), (1, 1), (1, 2)}\n",
      "    x_index : Size=1, Index=None, Ordered=True\n",
      "        Key  : Dimen : Domain : Size : Members\n",
      "        None :     2 :    I*J :    6 : {(0, 0), (0, 1), (0, 2), (1, 0), (1, 1), (1, 2)}\n",
      "\n",
      "1 Param Declarations\n",
      "    p : Size=6, Index=p_index, Domain=Any, Default=2, Mutable=False\n",
      "        Key : Value\n",
      "\n",
      "1 Var Declarations\n",
      "    x : Size=6, Index=x_index\n",
      "        Key    : Lower : Value : Upper : Fixed : Stale : Domain\n",
      "        (0, 0) :  None :   1.0 :  None : False : False :  Reals\n",
      "        (0, 1) :  None :   1.0 :  None : False : False :  Reals\n",
      "        (0, 2) :  None :   1.0 :  None : False : False :  Reals\n",
      "        (1, 0) :  None :   1.0 :  None : False : False :  Reals\n",
      "        (1, 1) :  None :   1.0 :  None : False : False :  Reals\n",
      "        (1, 2) :  None :   1.0 :  None : False : False :  Reals\n",
      "\n",
      "5 Objective Declarations\n",
      "    e1 : Size=6, Index=e1_index, Active=True\n",
      "        Key    : Active : Sense    : Expression\n",
      "        (0, 0) :   True : minimize :  x[0,0]**2\n",
      "        (0, 1) :   True : minimize :  x[0,1]**2\n",
      "        (0, 2) :   True : minimize :  x[0,2]**2\n",
      "        (1, 0) :   True : minimize :  x[1,0]**2\n",
      "        (1, 1) :   True : minimize :  x[1,1]**2\n",
      "        (1, 2) :   True : minimize :  x[1,2]**2\n",
      "    e2 : Size=4, Index=e2_index, Active=True\n",
      "        Key    : Active : Sense    : Expression\n",
      "        (0, 1) :   True : minimize :  x[0,1]**2\n",
      "        (0, 2) :   True : minimize :  x[0,2]**2\n",
      "        (1, 0) :   True : minimize :  x[1,0]**2\n",
      "        (1, 2) :   True : minimize :  x[1,2]**2\n",
      "    obj1 : Size=1, Index=None, Active=True\n",
      "        Key  : Active : Sense    : Expression\n",
      "        None :   True : minimize : 2*x[0,1] + 3*x[1,2]\n",
      "    obj2 : Size=1, Index=None, Active=True\n",
      "        Key  : Active : Sense    : Expression\n",
      "        None :   True : maximize : 2*x[0,0] + 2*x[0,1] + 2*x[0,2] + 2*x[1,0] + 2*x[1,1] + 2*x[1,2]\n",
      "    obj3 : Size=1, Index=None, Active=True\n",
      "        Key  : Active : Sense    : Expression\n",
      "        None :   True : minimize : sin(x[1,2]) + x[1,2]**2 + 2**x[1,2] + log(x[1,2])\n",
      "\n",
      "13 Declarations: I J x_index x obj1 p_index p obj2 obj3 e1_index e1 e2_index e2\n"
     ]
    }
   ],
   "source": [
    "def e_rule(model, i, j):\n",
    "    if i == j:\n",
    "        return Objective.Skip\n",
    "    return model.x[i,j]**2\n",
    "model.e2 = Objective(model.I, model.J, rule=e_rule, sense=minimize)\n",
    "model.pprint()"
   ]
  },
  {
   "cell_type": "markdown",
   "id": "cab7eeb1",
   "metadata": {},
   "source": [
    "#### 6访问目标函数的性质"
   ]
  },
  {
   "cell_type": "code",
   "execution_count": 7,
   "id": "ce3feee9",
   "metadata": {},
   "outputs": [
    {
     "name": "stdout",
     "output_type": "stream",
     "text": [
      "2*x[0,1] + 3*x[1,2]\n",
      "1\n",
      "5.0\n"
     ]
    }
   ],
   "source": [
    "print(model.obj1.expr) # 2*x[1,1] + 3*x[2,2] 返回目标函数的表达式\n",
    "print(model.obj1.sense) # -1 表示极大化 1 表示极小化\n",
    "print(value(model.obj1)) # 返回目标函数值"
   ]
  },
  {
   "cell_type": "code",
   "execution_count": 8,
   "id": "47e111f2",
   "metadata": {},
   "outputs": [
    {
     "name": "stdout",
     "output_type": "stream",
     "text": [
      "6 Set Declarations\n",
      "    I : Size=1, Index=None, Ordered=Insertion\n",
      "        Key  : Dimen : Domain : Size : Members\n",
      "        None :     1 :    Any :    2 : {0, 1}\n",
      "    J : Size=1, Index=None, Ordered=Insertion\n",
      "        Key  : Dimen : Domain : Size : Members\n",
      "        None :     1 :    Any :    3 : {0, 1, 2}\n",
      "    e1_index : Size=1, Index=None, Ordered=True\n",
      "        Key  : Dimen : Domain : Size : Members\n",
      "        None :     2 :    I*J :    6 : {(0, 0), (0, 1), (0, 2), (1, 0), (1, 1), (1, 2)}\n",
      "    e2_index : Size=1, Index=None, Ordered=True\n",
      "        Key  : Dimen : Domain : Size : Members\n",
      "        None :     2 :    I*J :    6 : {(0, 0), (0, 1), (0, 2), (1, 0), (1, 1), (1, 2)}\n",
      "    p_index : Size=1, Index=None, Ordered=True\n",
      "        Key  : Dimen : Domain : Size : Members\n",
      "        None :     2 :    I*J :    6 : {(0, 0), (0, 1), (0, 2), (1, 0), (1, 1), (1, 2)}\n",
      "    x_index : Size=1, Index=None, Ordered=True\n",
      "        Key  : Dimen : Domain : Size : Members\n",
      "        None :     2 :    I*J :    6 : {(0, 0), (0, 1), (0, 2), (1, 0), (1, 1), (1, 2)}\n",
      "\n",
      "1 Param Declarations\n",
      "    p : Size=6, Index=p_index, Domain=Any, Default=2, Mutable=False\n",
      "        Key : Value\n",
      "\n",
      "1 Var Declarations\n",
      "    x : Size=6, Index=x_index\n",
      "        Key    : Lower : Value : Upper : Fixed : Stale : Domain\n",
      "        (0, 0) :  None :   1.0 :  None : False : False :  Reals\n",
      "        (0, 1) :  None :   1.0 :  None : False : False :  Reals\n",
      "        (0, 2) :  None :   1.0 :  None : False : False :  Reals\n",
      "        (1, 0) :  None :   1.0 :  None : False : False :  Reals\n",
      "        (1, 1) :  None :   1.0 :  None : False : False :  Reals\n",
      "        (1, 2) :  None :   1.0 :  None : False : False :  Reals\n",
      "\n",
      "5 Objective Declarations\n",
      "    e1 : Size=6, Index=e1_index, Active=True\n",
      "        Key    : Active : Sense    : Expression\n",
      "        (0, 0) :   True : minimize :  x[0,0]**2\n",
      "        (0, 1) :   True : minimize :  x[0,1]**2\n",
      "        (0, 2) :   True : minimize :  x[0,2]**2\n",
      "        (1, 0) :   True : minimize :  x[1,0]**2\n",
      "        (1, 1) :   True : minimize :  x[1,1]**2\n",
      "        (1, 2) :   True : minimize :  x[1,2]**2\n",
      "    e2 : Size=4, Index=e2_index, Active=True\n",
      "        Key    : Active : Sense    : Expression\n",
      "        (0, 1) :   True : minimize :  x[0,1]**2\n",
      "        (0, 2) :   True : minimize :  x[0,2]**2\n",
      "        (1, 0) :   True : minimize :  x[1,0]**2\n",
      "        (1, 2) :   True : minimize :  x[1,2]**2\n",
      "    obj1 : Size=1, Index=None, Active=False\n",
      "        Key  : Active : Sense    : Expression\n",
      "        None :  False : minimize : 2*x[0,1] + 3*x[1,2]\n",
      "    obj2 : Size=1, Index=None, Active=True\n",
      "        Key  : Active : Sense    : Expression\n",
      "        None :   True : maximize : 2*x[0,0] + 2*x[0,1] + 2*x[0,2] + 2*x[1,0] + 2*x[1,1] + 2*x[1,2]\n",
      "    obj3 : Size=1, Index=None, Active=True\n",
      "        Key  : Active : Sense    : Expression\n",
      "        None :   True : minimize : sin(x[1,2]) + x[1,2]**2 + 2**x[1,2] + log(x[1,2])\n",
      "\n",
      "13 Declarations: I J x_index x obj1 p_index p obj2 obj3 e1_index e1 e2_index e2\n"
     ]
    }
   ],
   "source": [
    "model.obj1.deactivate()\n",
    "model.pprint()"
   ]
  },
  {
   "cell_type": "code",
   "execution_count": 9,
   "id": "ba222298",
   "metadata": {},
   "outputs": [
    {
     "name": "stdout",
     "output_type": "stream",
     "text": [
      "6 Set Declarations\n",
      "    I : Size=1, Index=None, Ordered=Insertion\n",
      "        Key  : Dimen : Domain : Size : Members\n",
      "        None :     1 :    Any :    2 : {0, 1}\n",
      "    J : Size=1, Index=None, Ordered=Insertion\n",
      "        Key  : Dimen : Domain : Size : Members\n",
      "        None :     1 :    Any :    3 : {0, 1, 2}\n",
      "    e1_index : Size=1, Index=None, Ordered=True\n",
      "        Key  : Dimen : Domain : Size : Members\n",
      "        None :     2 :    I*J :    6 : {(0, 0), (0, 1), (0, 2), (1, 0), (1, 1), (1, 2)}\n",
      "    e2_index : Size=1, Index=None, Ordered=True\n",
      "        Key  : Dimen : Domain : Size : Members\n",
      "        None :     2 :    I*J :    6 : {(0, 0), (0, 1), (0, 2), (1, 0), (1, 1), (1, 2)}\n",
      "    p_index : Size=1, Index=None, Ordered=True\n",
      "        Key  : Dimen : Domain : Size : Members\n",
      "        None :     2 :    I*J :    6 : {(0, 0), (0, 1), (0, 2), (1, 0), (1, 1), (1, 2)}\n",
      "    x_index : Size=1, Index=None, Ordered=True\n",
      "        Key  : Dimen : Domain : Size : Members\n",
      "        None :     2 :    I*J :    6 : {(0, 0), (0, 1), (0, 2), (1, 0), (1, 1), (1, 2)}\n",
      "\n",
      "1 Param Declarations\n",
      "    p : Size=6, Index=p_index, Domain=Any, Default=2, Mutable=False\n",
      "        Key : Value\n",
      "\n",
      "1 Var Declarations\n",
      "    x : Size=6, Index=x_index\n",
      "        Key    : Lower : Value : Upper : Fixed : Stale : Domain\n",
      "        (0, 0) :  None :   1.0 :  None : False : False :  Reals\n",
      "        (0, 1) :  None :   1.0 :  None : False : False :  Reals\n",
      "        (0, 2) :  None :   1.0 :  None : False : False :  Reals\n",
      "        (1, 0) :  None :   1.0 :  None : False : False :  Reals\n",
      "        (1, 1) :  None :   1.0 :  None : False : False :  Reals\n",
      "        (1, 2) :  None :   1.0 :  None : False : False :  Reals\n",
      "\n",
      "5 Objective Declarations\n",
      "    e1 : Size=6, Index=e1_index, Active=True\n",
      "        Key    : Active : Sense    : Expression\n",
      "        (0, 0) :   True : minimize :  x[0,0]**2\n",
      "        (0, 1) :   True : minimize :  x[0,1]**2\n",
      "        (0, 2) :   True : minimize :  x[0,2]**2\n",
      "        (1, 0) :   True : minimize :  x[1,0]**2\n",
      "        (1, 1) :   True : minimize :  x[1,1]**2\n",
      "        (1, 2) :   True : minimize :  x[1,2]**2\n",
      "    e2 : Size=4, Index=e2_index, Active=True\n",
      "        Key    : Active : Sense    : Expression\n",
      "        (0, 1) :   True : minimize :  x[0,1]**2\n",
      "        (0, 2) :   True : minimize :  x[0,2]**2\n",
      "        (1, 0) :   True : minimize :  x[1,0]**2\n",
      "        (1, 2) :   True : minimize :  x[1,2]**2\n",
      "    obj1 : Size=1, Index=None, Active=True\n",
      "        Key  : Active : Sense    : Expression\n",
      "        None :   True : minimize : 2*x[0,1] + 3*x[1,2]\n",
      "    obj2 : Size=1, Index=None, Active=True\n",
      "        Key  : Active : Sense    : Expression\n",
      "        None :   True : maximize : 2*x[0,0] + 2*x[0,1] + 2*x[0,2] + 2*x[1,0] + 2*x[1,1] + 2*x[1,2]\n",
      "    obj3 : Size=1, Index=None, Active=True\n",
      "        Key  : Active : Sense    : Expression\n",
      "        None :   True : minimize : sin(x[1,2]) + x[1,2]**2 + 2**x[1,2] + log(x[1,2])\n",
      "\n",
      "13 Declarations: I J x_index x obj1 p_index p obj2 obj3 e1_index e1 e2_index e2\n"
     ]
    }
   ],
   "source": [
    "model.obj1.activate()\n",
    "model.pprint()"
   ]
  }
 ],
 "metadata": {
  "kernelspec": {
   "display_name": "Python 3",
   "language": "python",
   "name": "python3"
  },
  "language_info": {
   "codemirror_mode": {
    "name": "ipython",
    "version": 3
   },
   "file_extension": ".py",
   "mimetype": "text/x-python",
   "name": "python",
   "nbconvert_exporter": "python",
   "pygments_lexer": "ipython3",
   "version": "3.8.8"
  }
 },
 "nbformat": 4,
 "nbformat_minor": 5
}
