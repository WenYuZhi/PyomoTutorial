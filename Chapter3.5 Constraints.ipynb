{
 "cells": [
  {
   "cell_type": "code",
   "execution_count": 54,
   "id": "48783da3",
   "metadata": {},
   "outputs": [],
   "source": [
    "from pyomo.environ import *"
   ]
  },
  {
   "cell_type": "markdown",
   "id": "3f60a5e3",
   "metadata": {},
   "source": [
    "#### 1借助表达式定义单条约束"
   ]
  },
  {
   "cell_type": "code",
   "execution_count": 55,
   "id": "f016c372",
   "metadata": {},
   "outputs": [
    {
     "name": "stdout",
     "output_type": "stream",
     "text": [
      "3 Set Declarations\n",
      "    I : Size=1, Index=None, Ordered=Insertion\n",
      "        Key  : Dimen : Domain : Size : Members\n",
      "        None :     1 :    Any :    3 : {0, 1, 2}\n",
      "    J : Size=1, Index=None, Ordered=Insertion\n",
      "        Key  : Dimen : Domain : Size : Members\n",
      "        None :     1 :    Any :    3 : {0, 1, 2}\n",
      "    x_index : Size=1, Index=None, Ordered=True\n",
      "        Key  : Dimen : Domain : Size : Members\n",
      "        None :     2 :    I*J :    9 : {(0, 0), (0, 1), (0, 2), (1, 0), (1, 1), (1, 2), (2, 0), (2, 1), (2, 2)}\n",
      "\n",
      "1 Var Declarations\n",
      "    x : Size=9, Index=x_index\n",
      "        Key    : Lower : Value : Upper : Fixed : Stale : Domain\n",
      "        (0, 0) :  None :   1.0 :  None : False : False :  Reals\n",
      "        (0, 1) :  None :   1.0 :  None : False : False :  Reals\n",
      "        (0, 2) :  None :   1.0 :  None : False : False :  Reals\n",
      "        (1, 0) :  None :   1.0 :  None : False : False :  Reals\n",
      "        (1, 1) :  None :   1.0 :  None : False : False :  Reals\n",
      "        (1, 2) :  None :   1.0 :  None : False : False :  Reals\n",
      "        (2, 0) :  None :   1.0 :  None : False : False :  Reals\n",
      "        (2, 1) :  None :   1.0 :  None : False : False :  Reals\n",
      "        (2, 2) :  None :   1.0 :  None : False : False :  Reals\n",
      "\n",
      "2 Constraint Declarations\n",
      "    c1 : Size=1, Index=None, Active=True\n",
      "        Key  : Lower : Body              : Upper : Active\n",
      "        None :   2.0 : x[0,0] + 2*x[0,1] :  +Inf :   True\n",
      "    c2 : Size=1, Index=None, Active=True\n",
      "        Key  : Lower : Body                : Upper : Active\n",
      "        None :  10.0 : 3*x[0,0] + 5*x[1,1] :  10.0 :   True\n",
      "\n",
      "6 Declarations: I J x_index x c1 c2\n"
     ]
    }
   ],
   "source": [
    "model = ConcreteModel()\n",
    "model.I  = Set(initialize = [i for i in range(3)])\n",
    "model.J  = Set(initialize = [i for i in range(3)])\n",
    "model.x = Var(model.I, model.J, initialize = 1.0, within = Reals)\n",
    "\n",
    "model.c1 = Constraint(expr = 2.0 <= model.x[0,0] + 2*model.x[0,2]) # 不等式约束 2 <= x[0,0] + 2*x[0,2] \n",
    "model.c2 = Constraint(expr = 3*model.x[0,0] + 5*model.x[1,1] == 10.0)  # 等式约束 3*x[0,0] + 5*x[1,1] = 10.0\n",
    "model.pprint()"
   ]
  },
  {
   "cell_type": "code",
   "execution_count": 56,
   "id": "aa1a0784",
   "metadata": {},
   "outputs": [
    {
     "name": "stdout",
     "output_type": "stream",
     "text": [
      "3.0\n",
      "1.0\n",
      "inf\n",
      "-2.0\n",
      "2.0\n"
     ]
    }
   ],
   "source": [
    "print(value(model.c1.body)) # 3 返回c1表达式的值 \n",
    "print(model.c1.lslack()) # 1.0 返回c1约束和下限的差(lower bound sla1ck variable)\n",
    "print(model.c1.uslack()) #  +inf 返回c1约束和上限的差(upper bound slack variable)\n",
    "print(model.c2.lslack()) # -2.0 返回c2约束和下限的差(lower bound slack variable)\n",
    "print(model.c2.uslack()) #  2.0 返回c1约束和下限的差(upper bound slack variable)"
   ]
  },
  {
   "cell_type": "markdown",
   "id": "ba9cda76",
   "metadata": {},
   "source": [
    "#### 2借用函数定义单条约束"
   ]
  },
  {
   "cell_type": "code",
   "execution_count": 57,
   "id": "ece59cd4",
   "metadata": {},
   "outputs": [
    {
     "name": "stdout",
     "output_type": "stream",
     "text": [
      "4 Set Declarations\n",
      "    I : Size=1, Index=None, Ordered=Insertion\n",
      "        Key  : Dimen : Domain : Size : Members\n",
      "        None :     1 :    Any :    3 : {0, 1, 2}\n",
      "    J : Size=1, Index=None, Ordered=Insertion\n",
      "        Key  : Dimen : Domain : Size : Members\n",
      "        None :     1 :    Any :    3 : {0, 1, 2}\n",
      "    p_index : Size=1, Index=None, Ordered=True\n",
      "        Key  : Dimen : Domain : Size : Members\n",
      "        None :     2 :    I*J :    9 : {(0, 0), (0, 1), (0, 2), (1, 0), (1, 1), (1, 2), (2, 0), (2, 1), (2, 2)}\n",
      "    x_index : Size=1, Index=None, Ordered=True\n",
      "        Key  : Dimen : Domain : Size : Members\n",
      "        None :     2 :    I*J :    9 : {(0, 0), (0, 1), (0, 2), (1, 0), (1, 1), (1, 2), (2, 0), (2, 1), (2, 2)}\n",
      "\n",
      "1 Param Declarations\n",
      "    p : Size=9, Index=p_index, Domain=Any, Default=2, Mutable=False\n",
      "        Key : Value\n",
      "\n",
      "1 Var Declarations\n",
      "    x : Size=9, Index=x_index\n",
      "        Key    : Lower : Value : Upper : Fixed : Stale : Domain\n",
      "        (0, 0) :  None :   1.0 :  None : False : False :  Reals\n",
      "        (0, 1) :  None :   1.0 :  None : False : False :  Reals\n",
      "        (0, 2) :  None :   1.0 :  None : False : False :  Reals\n",
      "        (1, 0) :  None :   1.0 :  None : False : False :  Reals\n",
      "        (1, 1) :  None :   1.0 :  None : False : False :  Reals\n",
      "        (1, 2) :  None :   1.0 :  None : False : False :  Reals\n",
      "        (2, 0) :  None :   1.0 :  None : False : False :  Reals\n",
      "        (2, 1) :  None :   1.0 :  None : False : False :  Reals\n",
      "        (2, 2) :  None :   1.0 :  None : False : False :  Reals\n",
      "\n",
      "3 Constraint Declarations\n",
      "    c1 : Size=1, Index=None, Active=True\n",
      "        Key  : Lower : Body              : Upper : Active\n",
      "        None :   2.0 : x[0,0] + 2*x[0,1] :  +Inf :   True\n",
      "    c2 : Size=1, Index=None, Active=True\n",
      "        Key  : Lower : Body                : Upper : Active\n",
      "        None :  10.0 : 3*x[0,0] + 5*x[1,1] :  10.0 :   True\n",
      "    c3 : Size=1, Index=None, Active=True\n",
      "        Key  : Lower : Body                                                                                                         : Upper : Active\n",
      "        None :  -Inf : 2*x[0,0] + 2*x[0,1] + 2*x[0,2] + 2*x[1,0] + 2*x[1,1] + 2*x[1,2] + 2*x[2,0] + 2*x[2,1] + 2*x[2,2] + x[0,0]**2 :   2.0 :   True\n",
      "\n",
      "9 Declarations: I J x_index x c1 c2 p_index p c3\n"
     ]
    }
   ],
   "source": [
    "model.p = Param(model.I, model.J, default = 2) \n",
    "def c3_rule(model):\n",
    "    return summation(model.p, model.x) + model.x[0,0]**2 <= 2\n",
    "\n",
    "model.c3 = Constraint(rule = c3_rule)\n",
    "model.pprint()"
   ]
  },
  {
   "cell_type": "markdown",
   "id": "35331b9f",
   "metadata": {},
   "source": [
    "#### 3借用函数定义多条约束"
   ]
  },
  {
   "cell_type": "code",
   "execution_count": 58,
   "id": "135995f8",
   "metadata": {},
   "outputs": [
    {
     "name": "stdout",
     "output_type": "stream",
     "text": [
      "4 Set Declarations\n",
      "    I : Size=1, Index=None, Ordered=Insertion\n",
      "        Key  : Dimen : Domain : Size : Members\n",
      "        None :     1 :    Any :    3 : {0, 1, 2}\n",
      "    J : Size=1, Index=None, Ordered=Insertion\n",
      "        Key  : Dimen : Domain : Size : Members\n",
      "        None :     1 :    Any :    3 : {0, 1, 2}\n",
      "    p_index : Size=1, Index=None, Ordered=True\n",
      "        Key  : Dimen : Domain : Size : Members\n",
      "        None :     2 :    I*J :    9 : {(0, 0), (0, 1), (0, 2), (1, 0), (1, 1), (1, 2), (2, 0), (2, 1), (2, 2)}\n",
      "    x_index : Size=1, Index=None, Ordered=True\n",
      "        Key  : Dimen : Domain : Size : Members\n",
      "        None :     2 :    I*J :    9 : {(0, 0), (0, 1), (0, 2), (1, 0), (1, 1), (1, 2), (2, 0), (2, 1), (2, 2)}\n",
      "\n",
      "1 Param Declarations\n",
      "    p : Size=9, Index=p_index, Domain=Any, Default=2, Mutable=False\n",
      "        Key : Value\n",
      "\n",
      "1 Var Declarations\n",
      "    x : Size=9, Index=x_index\n",
      "        Key    : Lower : Value : Upper : Fixed : Stale : Domain\n",
      "        (0, 0) :  None :   1.0 :  None : False : False :  Reals\n",
      "        (0, 1) :  None :   1.0 :  None : False : False :  Reals\n",
      "        (0, 2) :  None :   1.0 :  None : False : False :  Reals\n",
      "        (1, 0) :  None :   1.0 :  None : False : False :  Reals\n",
      "        (1, 1) :  None :   1.0 :  None : False : False :  Reals\n",
      "        (1, 2) :  None :   1.0 :  None : False : False :  Reals\n",
      "        (2, 0) :  None :   1.0 :  None : False : False :  Reals\n",
      "        (2, 1) :  None :   1.0 :  None : False : False :  Reals\n",
      "        (2, 2) :  None :   1.0 :  None : False : False :  Reals\n",
      "\n",
      "4 Constraint Declarations\n",
      "    c1 : Size=1, Index=None, Active=True\n",
      "        Key  : Lower : Body              : Upper : Active\n",
      "        None :   2.0 : x[0,0] + 2*x[0,1] :  +Inf :   True\n",
      "    c2 : Size=1, Index=None, Active=True\n",
      "        Key  : Lower : Body                : Upper : Active\n",
      "        None :  10.0 : 3*x[0,0] + 5*x[1,1] :  10.0 :   True\n",
      "    c3 : Size=1, Index=None, Active=True\n",
      "        Key  : Lower : Body                                                                                                         : Upper : Active\n",
      "        None :  -Inf : 2*x[0,0] + 2*x[0,1] + 2*x[0,2] + 2*x[1,0] + 2*x[1,1] + 2*x[1,2] + 2*x[2,0] + 2*x[2,1] + 2*x[2,2] + x[0,0]**2 :   2.0 :   True\n",
      "    c4 : Size=2, Index=I, Active=True\n",
      "        Key : Lower : Body                           : Upper : Active\n",
      "          1 :  -Inf : 2*x[1,0] + 2*x[1,1] + 2*x[1,2] :   2.0 :   True\n",
      "          2 :  -Inf : 2*x[2,0] + 2*x[2,1] + 2*x[2,2] :   2.0 :   True\n",
      "\n",
      "10 Declarations: I J x_index x c1 c2 p_index p c3 c4\n"
     ]
    }
   ],
   "source": [
    "def c4_rule(model, i):\n",
    "    if i == 0:\n",
    "        return Constraint.Skip\n",
    "    return sum([model.p[i,j]*model.x[i,j] for j in model.J]) <= 2\n",
    "\n",
    "model.c4 = Constraint(model.I, rule = c4_rule)\n",
    "model.pprint()"
   ]
  },
  {
   "cell_type": "code",
   "execution_count": 59,
   "id": "a04edb21",
   "metadata": {},
   "outputs": [
    {
     "name": "stdout",
     "output_type": "stream",
     "text": [
      "4 Set Declarations\n",
      "    I : Size=1, Index=None, Ordered=Insertion\n",
      "        Key  : Dimen : Domain : Size : Members\n",
      "        None :     1 :    Any :    3 : {0, 1, 2}\n",
      "    J : Size=1, Index=None, Ordered=Insertion\n",
      "        Key  : Dimen : Domain : Size : Members\n",
      "        None :     1 :    Any :    3 : {0, 1, 2}\n",
      "    p_index : Size=1, Index=None, Ordered=True\n",
      "        Key  : Dimen : Domain : Size : Members\n",
      "        None :     2 :    I*J :    9 : {(0, 0), (0, 1), (0, 2), (1, 0), (1, 1), (1, 2), (2, 0), (2, 1), (2, 2)}\n",
      "    x_index : Size=1, Index=None, Ordered=True\n",
      "        Key  : Dimen : Domain : Size : Members\n",
      "        None :     2 :    I*J :    9 : {(0, 0), (0, 1), (0, 2), (1, 0), (1, 1), (1, 2), (2, 0), (2, 1), (2, 2)}\n",
      "\n",
      "1 Param Declarations\n",
      "    p : Size=9, Index=p_index, Domain=Any, Default=2, Mutable=False\n",
      "        Key : Value\n",
      "\n",
      "1 Var Declarations\n",
      "    x : Size=9, Index=x_index\n",
      "        Key    : Lower : Value : Upper : Fixed : Stale : Domain\n",
      "        (0, 0) :  None :   1.0 :  None : False : False :  Reals\n",
      "        (0, 1) :  None :   1.0 :  None : False : False :  Reals\n",
      "        (0, 2) :  None :   1.0 :  None : False : False :  Reals\n",
      "        (1, 0) :  None :   1.0 :  None : False : False :  Reals\n",
      "        (1, 1) :  None :   1.0 :  None : False : False :  Reals\n",
      "        (1, 2) :  None :   1.0 :  None : False : False :  Reals\n",
      "        (2, 0) :  None :   1.0 :  None : False : False :  Reals\n",
      "        (2, 1) :  None :   1.0 :  None : False : False :  Reals\n",
      "        (2, 2) :  None :   1.0 :  None : False : False :  Reals\n",
      "\n",
      "4 Constraint Declarations\n",
      "    c1 : Size=1, Index=None, Active=True\n",
      "        Key  : Lower : Body              : Upper : Active\n",
      "        None :   2.0 : x[0,0] + 2*x[0,1] :  +Inf :   True\n",
      "    c2 : Size=1, Index=None, Active=False\n",
      "        Key  : Lower : Body                : Upper : Active\n",
      "        None :  10.0 : 3*x[0,0] + 5*x[1,1] :  10.0 :  False\n",
      "    c3 : Size=1, Index=None, Active=True\n",
      "        Key  : Lower : Body                                                                                                         : Upper : Active\n",
      "        None :  -Inf : 2*x[0,0] + 2*x[0,1] + 2*x[0,2] + 2*x[1,0] + 2*x[1,1] + 2*x[1,2] + 2*x[2,0] + 2*x[2,1] + 2*x[2,2] + x[0,0]**2 :   2.0 :   True\n",
      "    c4 : Size=2, Index=I, Active=True\n",
      "        Key : Lower : Body                           : Upper : Active\n",
      "          1 :  -Inf : 2*x[1,0] + 2*x[1,1] + 2*x[1,2] :   2.0 :   True\n",
      "          2 :  -Inf : 2*x[2,0] + 2*x[2,1] + 2*x[2,2] :   2.0 :   True\n",
      "\n",
      "10 Declarations: I J x_index x c1 c2 p_index p c3 c4\n"
     ]
    }
   ],
   "source": [
    "model.c2.deactivate() # c2约束失效\n",
    "model.pprint()"
   ]
  },
  {
   "cell_type": "code",
   "execution_count": 60,
   "id": "b5a9ae09",
   "metadata": {},
   "outputs": [
    {
     "name": "stdout",
     "output_type": "stream",
     "text": [
      "4 Set Declarations\n",
      "    I : Size=1, Index=None, Ordered=Insertion\n",
      "        Key  : Dimen : Domain : Size : Members\n",
      "        None :     1 :    Any :    3 : {0, 1, 2}\n",
      "    J : Size=1, Index=None, Ordered=Insertion\n",
      "        Key  : Dimen : Domain : Size : Members\n",
      "        None :     1 :    Any :    3 : {0, 1, 2}\n",
      "    p_index : Size=1, Index=None, Ordered=True\n",
      "        Key  : Dimen : Domain : Size : Members\n",
      "        None :     2 :    I*J :    9 : {(0, 0), (0, 1), (0, 2), (1, 0), (1, 1), (1, 2), (2, 0), (2, 1), (2, 2)}\n",
      "    x_index : Size=1, Index=None, Ordered=True\n",
      "        Key  : Dimen : Domain : Size : Members\n",
      "        None :     2 :    I*J :    9 : {(0, 0), (0, 1), (0, 2), (1, 0), (1, 1), (1, 2), (2, 0), (2, 1), (2, 2)}\n",
      "\n",
      "1 Param Declarations\n",
      "    p : Size=9, Index=p_index, Domain=Any, Default=2, Mutable=False\n",
      "        Key : Value\n",
      "\n",
      "1 Var Declarations\n",
      "    x : Size=9, Index=x_index\n",
      "        Key    : Lower : Value : Upper : Fixed : Stale : Domain\n",
      "        (0, 0) :  None :   1.0 :  None : False : False :  Reals\n",
      "        (0, 1) :  None :   1.0 :  None : False : False :  Reals\n",
      "        (0, 2) :  None :   1.0 :  None : False : False :  Reals\n",
      "        (1, 0) :  None :   1.0 :  None : False : False :  Reals\n",
      "        (1, 1) :  None :   1.0 :  None : False : False :  Reals\n",
      "        (1, 2) :  None :   1.0 :  None : False : False :  Reals\n",
      "        (2, 0) :  None :   1.0 :  None : False : False :  Reals\n",
      "        (2, 1) :  None :   1.0 :  None : False : False :  Reals\n",
      "        (2, 2) :  None :   1.0 :  None : False : False :  Reals\n",
      "\n",
      "4 Constraint Declarations\n",
      "    c1 : Size=1, Index=None, Active=True\n",
      "        Key  : Lower : Body              : Upper : Active\n",
      "        None :   2.0 : x[0,0] + 2*x[0,1] :  +Inf :   True\n",
      "    c2 : Size=1, Index=None, Active=True\n",
      "        Key  : Lower : Body                : Upper : Active\n",
      "        None :  10.0 : 3*x[0,0] + 5*x[1,1] :  10.0 :   True\n",
      "    c3 : Size=1, Index=None, Active=True\n",
      "        Key  : Lower : Body                                                                                                         : Upper : Active\n",
      "        None :  -Inf : 2*x[0,0] + 2*x[0,1] + 2*x[0,2] + 2*x[1,0] + 2*x[1,1] + 2*x[1,2] + 2*x[2,0] + 2*x[2,1] + 2*x[2,2] + x[0,0]**2 :   2.0 :   True\n",
      "    c4 : Size=2, Index=I, Active=True\n",
      "        Key : Lower : Body                           : Upper : Active\n",
      "          1 :  -Inf : 2*x[1,0] + 2*x[1,1] + 2*x[1,2] :   2.0 :   True\n",
      "          2 :  -Inf : 2*x[2,0] + 2*x[2,1] + 2*x[2,2] :   2.0 :   True\n",
      "\n",
      "10 Declarations: I J x_index x c1 c2 p_index p c3 c4\n"
     ]
    }
   ],
   "source": [
    "model.c2.activate() #重新激活c2约束\n",
    "model.pprint()"
   ]
  }
 ],
 "metadata": {
  "kernelspec": {
   "display_name": "Python 3",
   "language": "python",
   "name": "python3"
  },
  "language_info": {
   "codemirror_mode": {
    "name": "ipython",
    "version": 3
   },
   "file_extension": ".py",
   "mimetype": "text/x-python",
   "name": "python",
   "nbconvert_exporter": "python",
   "pygments_lexer": "ipython3",
   "version": "3.8.8"
  }
 },
 "nbformat": 4,
 "nbformat_minor": 5
}
