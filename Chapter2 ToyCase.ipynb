{
 "cells": [
  {
   "cell_type": "code",
   "execution_count": 1,
   "id": "8511d157",
   "metadata": {},
   "outputs": [
    {
     "name": "stdout",
     "output_type": "stream",
     "text": [
      "2 Var Declarations\n",
      "    x : Size=1, Index=None\n",
      "        Key  : Lower : Value : Upper : Fixed : Stale : Domain\n",
      "        None :     0 :  None :  None : False :  True : NonNegativeReals\n",
      "    y : Size=1, Index=None\n",
      "        Key  : Lower : Value : Upper : Fixed : Stale : Domain\n",
      "        None :     0 :  None :  None : False :  True : NonNegativeReals\n",
      "\n",
      "1 Objective Declarations\n",
      "    obj : Size=1, Index=None, Active=True\n",
      "        Key  : Active : Sense    : Expression\n",
      "        None :   True : minimize : x + y\n",
      "\n",
      "1 Constraint Declarations\n",
      "    constrs : Size=1, Index=None, Active=True\n",
      "        Key  : Lower : Body  : Upper : Active\n",
      "        None :  -Inf : x + y :   1.0 :   True\n",
      "\n",
      "4 Declarations: x y obj constrs\n"
     ]
    }
   ],
   "source": [
    "from pyomo.environ import *\n",
    "\n",
    "model = ConcreteModel() # 定义模型\n",
    "model.x = Var(within=NonNegativeReals) # 声明决策变量 x \n",
    "model.y = Var(within=NonNegativeReals) # 声明决策变量 y\n",
    "model.obj = Objective(expr=model.x + model.y, sense = minimize) # 声明目标函数为 x+y 极小化表示minimize\n",
    "model.constrs = Constraint(expr=model.x + model.y <= 1)   # 添加约束 x+y 小于等于 1\n",
    "model.write('model.lp')    # 输出模型文件 \n",
    "model.pprint()   # 打印模型信息\n",
    "opt = SolverFactory('gurobi')       # 指定Gurobi为求解器\n",
    "solution = opt.solve(model)             # 调用求解器求解"
   ]
  }
 ],
 "metadata": {
  "kernelspec": {
   "display_name": "Python 3",
   "language": "python",
   "name": "python3"
  },
  "language_info": {
   "codemirror_mode": {
    "name": "ipython",
    "version": 3
   },
   "file_extension": ".py",
   "mimetype": "text/x-python",
   "name": "python",
   "nbconvert_exporter": "python",
   "pygments_lexer": "ipython3",
   "version": "3.8.8"
  }
 },
 "nbformat": 4,
 "nbformat_minor": 5
}
