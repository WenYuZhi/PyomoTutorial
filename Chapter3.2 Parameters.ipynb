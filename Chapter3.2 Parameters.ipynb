{
 "cells": [
  {
   "cell_type": "code",
   "execution_count": 19,
   "id": "7aaa4dcf",
   "metadata": {},
   "outputs": [],
   "source": [
    "from pyomo.environ import *"
   ]
  },
  {
   "cell_type": "markdown",
   "id": "7ff9bfb1",
   "metadata": {},
   "source": [
    "#### 1 简单赋值法初始化参数"
   ]
  },
  {
   "cell_type": "code",
   "execution_count": 20,
   "id": "eb294a00",
   "metadata": {},
   "outputs": [
    {
     "name": "stdout",
     "output_type": "stream",
     "text": [
      "1\n"
     ]
    }
   ],
   "source": [
    "model = ConcreteModel()\n",
    "model.I = Set(initialize = [i for i in range(3)])  \n",
    "model.J = Set(initialize = [i for i in range(3)])\n",
    "model.c = Param(model.I, model.J, default = 1) # 参数c是一个3*3的矩阵 并且初始值全部为1\n",
    "print(model.c[0,0])"
   ]
  },
  {
   "cell_type": "markdown",
   "id": "4f3396ae",
   "metadata": {},
   "source": [
    "#### 2 字典初始化参数"
   ]
  },
  {
   "cell_type": "code",
   "execution_count": 21,
   "id": "7919e3e2",
   "metadata": {},
   "outputs": [
    {
     "name": "stdout",
     "output_type": "stream",
     "text": [
      "1\n",
      "0\n"
     ]
    }
   ],
   "source": [
    "c_data = {(0,0): 1, (1,2): 33, (2,1): 20} # 采用字典初始化 表示 c[0,0]=1,c[1,2]=33,c[3,3]=20\n",
    "model.c1 = Param(model.I, model.J, initialize=c_data, default = 0) # default = 0 表示其余都为 0\n",
    "print(model.c1[0,0])\n",
    "print(model.c1[0,1])"
   ]
  },
  {
   "cell_type": "markdown",
   "id": "a87883b1",
   "metadata": {},
   "source": [
    "#### 3 函数初始化参数"
   ]
  },
  {
   "cell_type": "code",
   "execution_count": 22,
   "id": "3c694f7b",
   "metadata": {},
   "outputs": [],
   "source": [
    "def c_init(model, i, j):\n",
    "    if i == j:\n",
    "        return i*i\n",
    "    else:\n",
    "        return 0.0\n",
    "model.c2 = Param(model.I, model.J, initialize=c_init)"
   ]
  },
  {
   "cell_type": "markdown",
   "id": "e15d734f",
   "metadata": {},
   "source": [
    "#### 4 validate 验证参数取值正确性"
   ]
  },
  {
   "cell_type": "code",
   "execution_count": 23,
   "id": "c088c2c4",
   "metadata": {},
   "outputs": [],
   "source": [
    "c_data = {(1,1): 4, (1,2): 33, (2,1): 20}\n",
    "def c_validate(model, v, i, j): # 保证所有c_{ij}的值都要大于3\n",
    "    return v > 3.\n",
    "model.c3 = Param(model.I, model.J, initialize=c_data, validate=c_validate)"
   ]
  },
  {
   "cell_type": "markdown",
   "id": "3d60e25b",
   "metadata": {},
   "source": [
    "#### 5 参数常用操作"
   ]
  },
  {
   "cell_type": "code",
   "execution_count": 24,
   "id": "ff8ca907",
   "metadata": {},
   "outputs": [
    {
     "name": "stdout",
     "output_type": "stream",
     "text": [
      "9\n",
      "False\n",
      "True\n",
      "[(0, 0), (0, 1), (0, 2), (1, 0), (1, 1), (1, 2), (2, 0), (2, 1), (2, 2)]\n"
     ]
    }
   ],
   "source": [
    "print(len(model.c)) # 9 参数元素个数\n",
    "print(1 in model.c) # False \n",
    "print((0,0) in model.c) # True \n",
    "print([v for v in model.c]) # [(0, 0), (0, 1), (0, 2), (1, 0), (1, 1), (1, 2), (2, 0), (2, 1), (2, 2)] 遍历元素"
   ]
  }
 ],
 "metadata": {
  "kernelspec": {
   "display_name": "Python 3",
   "language": "python",
   "name": "python3"
  },
  "language_info": {
   "codemirror_mode": {
    "name": "ipython",
    "version": 3
   },
   "file_extension": ".py",
   "mimetype": "text/x-python",
   "name": "python",
   "nbconvert_exporter": "python",
   "pygments_lexer": "ipython3",
   "version": "3.8.8"
  }
 },
 "nbformat": 4,
 "nbformat_minor": 5
}
