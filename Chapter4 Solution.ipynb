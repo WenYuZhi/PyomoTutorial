{
 "cells": [
  {
   "cell_type": "code",
   "execution_count": 1,
   "id": "520b8249",
   "metadata": {},
   "outputs": [],
   "source": [
    "from pyomo.environ import *\n",
    "import numpy as np"
   ]
  },
  {
   "cell_type": "code",
   "execution_count": 2,
   "id": "d66fb5f8",
   "metadata": {},
   "outputs": [],
   "source": [
    "model = ConcreteModel()\n",
    "model.I = Set(initialize = [i for i in range(4)])\n",
    "model.J = Set(initialize = [i for i in range(4)])\n",
    "model.x = Var(model.I, model.J, within = Reals, bounds = (0,1))\n",
    "model.c = Param(model.I, model.J, initialize = {(1,1):2, (2,2):3}, default = 1)\n",
    "\n",
    "def obj_rule(model):\n",
    "    return summation(model.c, model.x)\n",
    "\n",
    "def constrs_rule1(model, i):\n",
    "    return sum([model.x[i,j] for j in model.J]) == 1\n",
    "\n",
    "def constrs_rule2(model, j):\n",
    "    return sum([model.x[i,j] for i in model.I]) == 1\n",
    "\n",
    "model.obj = Objective(rule=obj_rule, sense = minimize)\n",
    "model.constrs1 = Constraint(model.I, rule = constrs_rule1)\n",
    "model.constrs2 = Constraint(model.J, rule = constrs_rule2)\n",
    "model.dual = Suffix(direction=Suffix.IMPORT) # 定义对偶变量"
   ]
  },
  {
   "cell_type": "code",
   "execution_count": 3,
   "id": "9ef8f189",
   "metadata": {},
   "outputs": [],
   "source": [
    "opt = SolverFactory('gurobi')  # 指定 gurobi 作为求解器 \n",
    "# opt = SolverFactory('cplex')  # 指定 cplex 作为求解器 \n",
    "# opt = SolverFactory('scip')  # 指定 scip 作为求解器 \n",
    "solution = opt.solve(model)             # 调用求解器求解"
   ]
  },
  {
   "cell_type": "code",
   "execution_count": 4,
   "id": "1e9a4bbf",
   "metadata": {},
   "outputs": [
    {
     "name": "stdout",
     "output_type": "stream",
     "text": [
      "# ==========================================================\n",
      "# = Solver Results                                         =\n",
      "# ==========================================================\n",
      "# ----------------------------------------------------------\n",
      "#   Problem Information\n",
      "# ----------------------------------------------------------\n",
      "Problem: \n",
      "- Name: x17\n",
      "  Lower bound: 4.0\n",
      "  Upper bound: 4.0\n",
      "  Number of objectives: 1\n",
      "  Number of constraints: 9\n",
      "  Number of variables: 17\n",
      "  Number of binary variables: 0\n",
      "  Number of integer variables: 0\n",
      "  Number of continuous variables: 17\n",
      "  Number of nonzeros: 33\n",
      "  Sense: minimize\n",
      "# ----------------------------------------------------------\n",
      "#   Solver Information\n",
      "# ----------------------------------------------------------\n",
      "Solver: \n",
      "- Status: ok\n",
      "  Return code: 0\n",
      "  Message: Model was solved to optimality (subject to tolerances), and an optimal solution is available.\n",
      "  Termination condition: optimal\n",
      "  Termination message: Model was solved to optimality (subject to tolerances), and an optimal solution is available.\n",
      "  Wall time: 0.000995635986328125\n",
      "  Error rc: 0\n",
      "  Time: 0.12184405326843262\n",
      "# ----------------------------------------------------------\n",
      "#   Solution Information\n",
      "# ----------------------------------------------------------\n",
      "Solution: \n",
      "- number of solutions: 0\n",
      "  number of solutions displayed: 0\n",
      "optimum point: \n",
      " [[0. 1. 0. 0.]\n",
      " [1. 0. 0. 0.]\n",
      " [0. 0. 0. 1.]\n",
      " [0. 0. 1. 0.]] \n",
      "optimal objective: 4.0\n"
     ]
    }
   ],
   "source": [
    "solution.write()\n",
    "x_opt = np.array([value(model.x[i,j]) for i in model.I for j in model.J]).reshape((len(model.I), len(model.J)))\n",
    "obj_values = value(model.obj)\n",
    "print(\"optimum point: \\n {} \".format(x_opt))\n",
    "print(\"optimal objective: {}\".format(obj_values))"
   ]
  },
  {
   "cell_type": "code",
   "execution_count": 5,
   "id": "c8d3b87c",
   "metadata": {},
   "outputs": [
    {
     "name": "stdout",
     "output_type": "stream",
     "text": [
      "1.0\n",
      "1.0\n",
      "1.0\n",
      "1.0\n"
     ]
    }
   ],
   "source": [
    "for c in model.constrs1:\n",
    "    print(model.dual[model.constrs1[c]])#遍历约束constrs1的对偶变量"
   ]
  },
  {
   "cell_type": "code",
   "execution_count": 6,
   "id": "cc328529",
   "metadata": {},
   "outputs": [
    {
     "name": "stdout",
     "output_type": "stream",
     "text": [
      "optimal\n",
      "Model was solved to optimality (subject to tolerances), and an optimal solution is available.\n",
      "ok\n"
     ]
    }
   ],
   "source": [
    "print(solution.solver.termination_condition) # 终止条件 一般包括三种 optimal, feasible, infeasible\n",
    "print(solution.solver.termination_message) # 求解得到的信息 一般为一行字符串信息\n",
    "print(solution.solver.status)  # 表示求解的状态 包括 ok, warning, error, aborted, or unknown "
   ]
  }
 ],
 "metadata": {
  "kernelspec": {
   "display_name": "Python 3",
   "language": "python",
   "name": "python3"
  },
  "language_info": {
   "codemirror_mode": {
    "name": "ipython",
    "version": 3
   },
   "file_extension": ".py",
   "mimetype": "text/x-python",
   "name": "python",
   "nbconvert_exporter": "python",
   "pygments_lexer": "ipython3",
   "version": "3.8.8"
  }
 },
 "nbformat": 4,
 "nbformat_minor": 5
}
