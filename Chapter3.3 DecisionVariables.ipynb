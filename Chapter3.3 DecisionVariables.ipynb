{
 "cells": [
  {
   "cell_type": "code",
   "execution_count": 1,
   "id": "2fbdb8d0",
   "metadata": {},
   "outputs": [],
   "source": [
    "from pyomo.environ import *"
   ]
  },
  {
   "cell_type": "markdown",
   "id": "fe8a5a9c",
   "metadata": {},
   "source": [
    "#### 1单决策变量的定义"
   ]
  },
  {
   "cell_type": "code",
   "execution_count": 2,
   "id": "a1ce32c0",
   "metadata": {},
   "outputs": [],
   "source": [
    "model = ConcreteModel()\n",
    "model.x = Var(within=Reals, bounds=(0,6), initialize=1.5) # 表示实数变量，上下界为0-6，初始值设为1.5"
   ]
  },
  {
   "cell_type": "markdown",
   "id": "51858797",
   "metadata": {},
   "source": [
    "#### 2多决策变量定义"
   ]
  },
  {
   "cell_type": "code",
   "execution_count": 3,
   "id": "29e74c48",
   "metadata": {},
   "outputs": [],
   "source": [
    "def fb(model, i, j):\n",
    "   return (0, 1)\n",
    "\n",
    "model.I = Set(initialize = [i for i in range(4)])  \n",
    "model.J = Set(initialize = [i for i in range(4)])  \n",
    "model.y= Var(model.I, model.J, within=PositiveIntegers, bounds=fb) # 表示决策变量 y 维数为4*4，正整数变量，上下界通过函数fb()定义"
   ]
  },
  {
   "cell_type": "code",
   "execution_count": 4,
   "id": "ef4129f5",
   "metadata": {},
   "outputs": [],
   "source": [
    "def fb1(model, i, j):\n",
    "   return (10, None) # None表示没有上界 \n",
    "model.z= Var(model.I, model.J, within=PositiveIntegers, bounds=fb1) "
   ]
  },
  {
   "cell_type": "markdown",
   "id": "333ef0eb",
   "metadata": {},
   "source": [
    "#### 3给决策变量赋初值"
   ]
  },
  {
   "cell_type": "code",
   "execution_count": 5,
   "id": "ae334d94",
   "metadata": {},
   "outputs": [
    {
     "name": "stdout",
     "output_type": "stream",
     "text": [
      "1.2\n",
      "30\n",
      "2.0\n",
      "2.0\n",
      "6\n"
     ]
    }
   ],
   "source": [
    "model.x_init1 = Var(model.I, model.J, initialize = {(0,0):1.2, (1,2):30, (2,2): 21})\n",
    "model.x_init2 = Var(model.I, model.J, initialize = 2.0)\n",
    "def g_init(model, i, j):\n",
    "    return i+j\n",
    "model.x_init3 = Var(model.I, model.J, initialize = g_init)\n",
    "print(value(model.x_init1[0,0])) # 1.2\n",
    "print(value(model.x_init1[1,2])) # 30\n",
    "print(value(model.x_init2[0,0])) # 2.0\n",
    "print(value(model.x_init2[3,3])) # 2.0\n",
    "print(value(model.x_init3[3,3])) # 6.0"
   ]
  },
  {
   "cell_type": "markdown",
   "id": "cfc6a934",
   "metadata": {},
   "source": [
    "#### 4决策变量的固定"
   ]
  },
  {
   "cell_type": "code",
   "execution_count": 6,
   "id": "67e4394c",
   "metadata": {},
   "outputs": [
    {
     "name": "stdout",
     "output_type": "stream",
     "text": [
      "True\n",
      "1\n"
     ]
    }
   ],
   "source": [
    "model.x_init1.fix(1)\n",
    "print(model.x_init1[0,0].fixed)\n",
    "print(value(model.x_init1[0,0]))"
   ]
  }
 ],
 "metadata": {
  "kernelspec": {
   "display_name": "Python 3",
   "language": "python",
   "name": "python3"
  },
  "language_info": {
   "codemirror_mode": {
    "name": "ipython",
    "version": 3
   },
   "file_extension": ".py",
   "mimetype": "text/x-python",
   "name": "python",
   "nbconvert_exporter": "python",
   "pygments_lexer": "ipython3",
   "version": "3.8.8"
  }
 },
 "nbformat": 4,
 "nbformat_minor": 5
}
